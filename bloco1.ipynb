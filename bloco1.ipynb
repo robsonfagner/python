{
 "cells": [
  {
   "cell_type": "markdown",
   "id": "da9082c7",
   "metadata": {},
   "source": [
    "Teste de Git"
   ]
  },
  {
   "cell_type": "code",
   "execution_count": 2,
   "id": "c1c9d00e",
   "metadata": {},
   "outputs": [
    {
     "name": "stdout",
     "output_type": "stream",
     "text": [
      "Robson Fagner Pinheiro de Oliveira\n"
     ]
    }
   ],
   "source": [
    "print('Robson Fagner Pinheiro de Oliveira')"
   ]
  }
 ],
 "metadata": {
  "kernelspec": {
   "display_name": "base",
   "language": "python",
   "name": "python3"
  },
  "language_info": {
   "codemirror_mode": {
    "name": "ipython",
    "version": 3
   },
   "file_extension": ".py",
   "mimetype": "text/x-python",
   "name": "python",
   "nbconvert_exporter": "python",
   "pygments_lexer": "ipython3",
   "version": "3.12.7"
  }
 },
 "nbformat": 4,
 "nbformat_minor": 5
}
